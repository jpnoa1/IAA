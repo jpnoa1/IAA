{
 "cells": [
  {
   "cell_type": "markdown",
   "id": "077ae24f",
   "metadata": {},
   "source": [
    "dagyg\n"
   ]
  },
  {
   "cell_type": "code",
   "execution_count": null,
   "id": "9e021558",
   "metadata": {},
   "outputs": [],
   "source": [
    "\n"
   ]
  }
 ],
 "metadata": {
  "kernelspec": {
   "display_name": "Python 3",
   "language": "python",
   "name": "python3"
  },
  "language_info": {
   "name": "python",
   "version": "3.12.6"
  }
 },
 "nbformat": 4,
 "nbformat_minor": 5
}
