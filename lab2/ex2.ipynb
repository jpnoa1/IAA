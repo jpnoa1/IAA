{
 "cells": [
  {
   "cell_type": "code",
   "execution_count": 22,
   "id": "10c796be",
   "metadata": {},
   "outputs": [],
   "source": [
    "!pip install scikit-learn --quiet"
   ]
  },
  {
   "cell_type": "code",
   "execution_count": 23,
   "id": "4036a454",
   "metadata": {},
   "outputs": [],
   "source": [
    "# imports\n",
    "import numpy as np\n",
    "import matplotlib.pyplot as plt\n",
    "\n",
    "from sklearn.datasets import load_iris\n",
    "from sklearn.model_selection import StratifiedShuffleSplit\n",
    "from sklearn.neighbors import KNeighborsClassifier\n",
    "from sklearn.metrics import accuracy_score\n",
    "from sklearn.metrics import confusion_matrix\n",
    "import pandas as pd"
   ]
  },
  {
   "cell_type": "code",
   "execution_count": 24,
   "id": "009c96d8",
   "metadata": {},
   "outputs": [],
   "source": [
    "# dados\n",
    "\n",
    "iris = load_iris()\n",
    "X = iris.data\n",
    "y = iris.target\n",
    "class_names = iris.target_names"
   ]
  },
  {
   "cell_type": "code",
   "execution_count": 25,
   "id": "2d301124",
   "metadata": {},
   "outputs": [
    {
     "name": "stderr",
     "output_type": "stream",
     "text": [
      "C:\\Users\\nicol\\AppData\\Local\\Temp\\ipykernel_32572\\3782272892.py:24: MatplotlibDeprecationWarning: The 'labels' parameter of boxplot() has been renamed 'tick_labels' since Matplotlib 3.9; support for the old name will be dropped in 3.11.\n",
      "  plt.boxplot(data, labels=[f'k={k}' for k in ks], showmeans=True)\n"
     ]
    },
    {
     "data": {
      "image/png": "[encoded data removed]",
      "text/plain": [
       "<Figure size 600x400 with 1 Axes>"
      ]
     },
     "metadata": {},
     "output_type": "display_data"
    }
   ],
   "source": [
    "# 1)\n",
    "\n",
    "# Partições estratificadas 70/30, 30 execuçõesd\n",
    "\n",
    "sss = StratifiedShuffleSplit(n_splits=30, test_size=0.30, random_state=42)\n",
    "\n",
    "ks = [3, 7, 11]\n",
    "accuracies = {k: [] for k in ks}\n",
    "\n",
    "for train_idx, test_idx in sss.split(X, y):\n",
    "    X_tr, X_te = X[train_idx], X[test_idx]\n",
    "    y_tr, y_te = y[train_idx], y[test_idx]\n",
    "    for k in ks:\n",
    "        knn = KNeighborsClassifier(n_neighbors=k, metric='euclidean')\n",
    "        knn.fit(X_tr, y_tr)\n",
    "        y_pred = knn.predict(X_te)\n",
    "        acc = accuracy_score(y_te, y_pred)\n",
    "        accuracies[k].append(acc)\n",
    "\n",
    "# Boxplot com whiskers\n",
    "\n",
    "data = [accuracies[k] for k in ks]\n",
    "plt.figure(figsize=(6,4))\n",
    "plt.boxplot(data, labels=[f'k={k}' for k in ks], showmeans=True)\n",
    "plt.ylabel('Accuracy (teste)')\n",
    "plt.title('k-NN no Iris: 30 partições (70/30)')\n",
    "plt.show()"
   ]
  },
  {
   "cell_type": "code",
   "execution_count": 26,
   "id": "aeb2e5a5",
   "metadata": {},
   "outputs": [
    {
     "name": "stdout",
     "output_type": "stream",
     "text": [
      "\n",
      "Matriz de confusão — k=3\n"
     ]
    },
    {
     "data": {
      "text/html": [
       "<div>\n",
       "<style scoped>\n",
       "    .dataframe tbody tr th:only-of-type {\n",
       "        vertical-align: middle;\n",
       "    }\n",
       "\n",
       "    .dataframe tbody tr th {\n",
       "        vertical-align: top;\n",
       "    }\n",
       "\n",
       "    .dataframe thead th {\n",
       "        text-align: right;\n",
       "    }\n",
       "</style>\n",
       "<table border=\"1\" class=\"dataframe\">\n",
       "  <thead>\n",
       "    <tr style=\"text-align: right;\">\n",
       "      <th></th>\n",
       "      <th>pred_setosa</th>\n",
       "      <th>pred_versicolor</th>\n",
       "      <th>pred_virginica</th>\n",
       "    </tr>\n",
       "  </thead>\n",
       "  <tbody>\n",
       "    <tr>\n",
       "      <th>true_setosa</th>\n",
       "      <td>15</td>\n",
       "      <td>0</td>\n",
       "      <td>0</td>\n",
       "    </tr>\n",
       "    <tr>\n",
       "      <th>true_versicolor</th>\n",
       "      <td>0</td>\n",
       "      <td>14</td>\n",
       "      <td>1</td>\n",
       "    </tr>\n",
       "    <tr>\n",
       "      <th>true_virginica</th>\n",
       "      <td>0</td>\n",
       "      <td>1</td>\n",
       "      <td>14</td>\n",
       "    </tr>\n",
       "  </tbody>\n",
       "</table>\n",
       "</div>"
      ],
      "text/plain": [
       "                 pred_setosa  pred_versicolor  pred_virginica\n",
       "true_setosa               15                0               0\n",
       "true_versicolor            0               14               1\n",
       "true_virginica             0                1              14"
      ]
     },
     "metadata": {},
     "output_type": "display_data"
    },
    {
     "name": "stdout",
     "output_type": "stream",
     "text": [
      "\n",
      "Matriz de confusão — k=7\n"
     ]
    },
    {
     "data": {
      "text/html": [
       "<div>\n",
       "<style scoped>\n",
       "    .dataframe tbody tr th:only-of-type {\n",
       "        vertical-align: middle;\n",
       "    }\n",
       "\n",
       "    .dataframe tbody tr th {\n",
       "        vertical-align: top;\n",
       "    }\n",
       "\n",
       "    .dataframe thead th {\n",
       "        text-align: right;\n",
       "    }\n",
       "</style>\n",
       "<table border=\"1\" class=\"dataframe\">\n",
       "  <thead>\n",
       "    <tr style=\"text-align: right;\">\n",
       "      <th></th>\n",
       "      <th>pred_setosa</th>\n",
       "      <th>pred_versicolor</th>\n",
       "      <th>pred_virginica</th>\n",
       "    </tr>\n",
       "  </thead>\n",
       "  <tbody>\n",
       "    <tr>\n",
       "      <th>true_setosa</th>\n",
       "      <td>15</td>\n",
       "      <td>0</td>\n",
       "      <td>0</td>\n",
       "    </tr>\n",
       "    <tr>\n",
       "      <th>true_versicolor</th>\n",
       "      <td>0</td>\n",
       "      <td>14</td>\n",
       "      <td>1</td>\n",
       "    </tr>\n",
       "    <tr>\n",
       "      <th>true_virginica</th>\n",
       "      <td>0</td>\n",
       "      <td>1</td>\n",
       "      <td>14</td>\n",
       "    </tr>\n",
       "  </tbody>\n",
       "</table>\n",
       "</div>"
      ],
      "text/plain": [
       "                 pred_setosa  pred_versicolor  pred_virginica\n",
       "true_setosa               15                0               0\n",
       "true_versicolor            0               14               1\n",
       "true_virginica             0                1              14"
      ]
     },
     "metadata": {},
     "output_type": "display_data"
    },
    {
     "name": "stdout",
     "output_type": "stream",
     "text": [
      "\n",
      "Matriz de confusão — k=11\n"
     ]
    },
    {
     "data": {
      "text/html": [
       "<div>\n",
       "<style scoped>\n",
       "    .dataframe tbody tr th:only-of-type {\n",
       "        vertical-align: middle;\n",
       "    }\n",
       "\n",
       "    .dataframe tbody tr th {\n",
       "        vertical-align: top;\n",
       "    }\n",
       "\n",
       "    .dataframe thead th {\n",
       "        text-align: right;\n",
       "    }\n",
       "</style>\n",
       "<table border=\"1\" class=\"dataframe\">\n",
       "  <thead>\n",
       "    <tr style=\"text-align: right;\">\n",
       "      <th></th>\n",
       "      <th>pred_setosa</th>\n",
       "      <th>pred_versicolor</th>\n",
       "      <th>pred_virginica</th>\n",
       "    </tr>\n",
       "  </thead>\n",
       "  <tbody>\n",
       "    <tr>\n",
       "      <th>true_setosa</th>\n",
       "      <td>15</td>\n",
       "      <td>0</td>\n",
       "      <td>0</td>\n",
       "    </tr>\n",
       "    <tr>\n",
       "      <th>true_versicolor</th>\n",
       "      <td>0</td>\n",
       "      <td>14</td>\n",
       "      <td>1</td>\n",
       "    </tr>\n",
       "    <tr>\n",
       "      <th>true_virginica</th>\n",
       "      <td>0</td>\n",
       "      <td>1</td>\n",
       "      <td>14</td>\n",
       "    </tr>\n",
       "  </tbody>\n",
       "</table>\n",
       "</div>"
      ],
      "text/plain": [
       "                 pred_setosa  pred_versicolor  pred_virginica\n",
       "true_setosa               15                0               0\n",
       "true_versicolor            0               14               1\n",
       "true_virginica             0                1              14"
      ]
     },
     "metadata": {},
     "output_type": "display_data"
    }
   ],
   "source": [
    "# 2)\n",
    "\n",
    "# Gerar UMA única partição estratificada 70/30\n",
    "sss_one = StratifiedShuffleSplit(n_splits=1, test_size=0.30, random_state=7)\n",
    "(train_idx, test_idx), = sss_one.split(X, y)\n",
    "\n",
    "X_tr, X_te = X[train_idx], X[test_idx]\n",
    "y_tr, y_te = y[train_idx], y[test_idx]\n",
    "\n",
    "ks = [3, 7, 11]\n",
    "for k in ks:\n",
    "    knn = KNeighborsClassifier(n_neighbors=k, metric='euclidean')\n",
    "    knn.fit(X_tr, y_tr)\n",
    "    y_pred = knn.predict(X_te)\n",
    "\n",
    "    cm = confusion_matrix(y_te, y_pred, labels=[0,1,2])\n",
    "    df_cm = pd.DataFrame(cm, index=[f\"true_{c}\" for c in class_names],\n",
    "                            columns=[f\"pred_{c}\" for c in class_names])\n",
    "\n",
    "    print(f\"\\nMatriz de confusão — k={k}\")\n",
    "    display(df_cm)  # em notebooks Jupyter mostra tabulado"
   ]
  },
  {
   "cell_type": "markdown",
   "id": "6e02457c",
   "metadata": {},
   "source": [
    "### Exercício 2 — Alínea 3  \n",
    "**Porque deve o valor de *k* ser ímpar (à luz da Fig. 3)?**\n",
    "\n",
    "No algoritmo *k*-NN, cada ponto desconhecido é classificado segundo a **classe mais frequente**\n",
    "entre os *k* vizinhos mais próximos.\n",
    "\n",
    "- Se **k for par**, pode acontecer um **empate** entre classes (por exemplo 1–1 ou 2–2 num problema binário).  \n",
    "  Nesse caso, o classificador precisa de um critério artificial de desempate\n",
    "  (aleatório, prioridade de classe, ordem dos dados, etc.), o que introduz instabilidade.\n",
    "\n",
    "- Se **k for ímpar**, garante-se que **há sempre uma maioria clara** entre as duas classes,\n",
    "evitando empates e tornando o processo de decisão determinístico.\n",
    "\n",
    "> 💡 **Conclusão:**  \n",
    "> Escolher *k* ímpar (por exemplo 3, 5, 7, 11…) evita empates em problemas binários e reduz a probabilidade de empate em problemas multiclasse, tornando o *k*-NN mais estável e previsível.\n"
   ]
  }
 ],
 "metadata": {
  "kernelspec": {
   "display_name": "Python 3",
   "language": "python",
   "name": "python3"
  },
  "language_info": {
   "codemirror_mode": {
    "name": "ipython",
    "version": 3
   },
   "file_extension": ".py",
   "mimetype": "text/x-python",
   "name": "python",
   "nbconvert_exporter": "python",
   "pygments_lexer": "ipython3",
   "version": "3.13.9"
  }
 },
 "nbformat": 4,
 "nbformat_minor": 5
}
