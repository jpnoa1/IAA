{
 "cells": [
  {
   "cell_type": "code",
   "execution_count": null,
   "id": "7fddd175",
   "metadata": {},
   "outputs": [],
   "source": [
    "#imports\n",
    "\n",
    "import numpy as np\n",
    "import matplotlib.pyplot as plt\n",
    "import csv "
   ]
  },
  {
   "cell_type": "code",
   "execution_count": 25,
   "id": "910acbcf",
   "metadata": {},
   "outputs": [],
   "source": [
    "# parâmetros enunciado\n",
    "\n",
    "alpha = 1e-4\n",
    "epochs = 10\n",
    "\n",
    "    # distância Euclidiana\n",
    "\n",
    "def closer_to_r1(p, r1, r2):\n",
    "\n",
    "    return np.linalg.norm(p - r1) <= np.linalg.norm(p - r2)\n"
   ]
  },
  {
   "cell_type": "code",
   "execution_count": 29,
   "id": "67acf248",
   "metadata": {},
   "outputs": [],
   "source": [
    "#pseudo codigo para 1 epoca dado no enunciado\n",
    "def one_epoch(X, r1, r2, alpha):\n",
    "\n",
    "    X = np.asarray(X, dtype=float)[:, :2]\n",
    "    updates_i = []\n",
    "\n",
    "    for x in X:\n",
    "        # distâncias euclidianas (calculadas aqui, sem helper externo)\n",
    "        d1 = np.linalg.norm(x - r1)\n",
    "        d2 = np.linalg.norm(x - r2)\n",
    "\n",
    "        if d1 <= d2:\n",
    "            r1 = (1.0 - alpha) * r1 + alpha * x  # r1 <- (1-α)r1 + αx\n",
    "            which = 1\n",
    "        else:\n",
    "            r2 = (1.0 - alpha) * r2 + alpha * x  # r2 <- (1-α)r2 + αx\n",
    "            which = 2\n",
    "\n",
    "        updates_i.append([which, r1[0], r1[1], r2[0], r2[1]])  # (i)\n",
    "\n",
    "    return r1, r2, updates_i\n",
    "\n",
    "\n"
   ]
  },
  {
   "cell_type": "code",
   "execution_count": 30,
   "id": "585ea441",
   "metadata": {},
   "outputs": [],
   "source": [
    "# Corre 10 épocas seguindo o pseudocódigo dado\n",
    "\n",
    "def run_10_epochs(X, r1, r2, alpha=alpha, epochs=epochs):\n",
    "\n",
    "#Guarda\n",
    "    X = np.asarray(X, dtype=float)\n",
    "    assert X.ndim == 2 and X.shape[1] >= 2, \"X tem de ser Nx2 (ou Nx≥2).\"\n",
    "    X = X[:, :2]\n",
    "\n",
    "    history_i  = []  # (i)\n",
    "    summary_ii = []  # (ii)\n",
    "\n",
    "    for ep in range(1, epochs + 1):\n",
    "        r1, r2, updates_i = one_epoch(X, r1, r2, alpha)\n",
    "        for k, (which, a, b, c, d) in enumerate(updates_i, start=1):\n",
    "            history_i.append([ep, k, which, a, b, c, d])\n",
    "        summary_ii.append([ep, r1[0], r1[1], r2[0], r2[1]])\n",
    "    return r1, r2, history_i, summary_ii\n",
    "\n"
   ]
  },
  {
   "cell_type": "code",
   "execution_count": 31,
   "id": "2236431b",
   "metadata": {},
   "outputs": [
    {
     "name": "stdout",
     "output_type": "stream",
     "text": [
      "r1_final: [0.0009991 0.       ]  | r2_final: [9.99100525e-04 1.00000000e+00]\n",
      "nº registos (i): 40\n",
      "nº linhas (ii): 10\n"
     ]
    }
   ],
   "source": [
    "X = [[0,0],[0,1],[1,0],[1,1]] \n",
    "X_np = np.asarray(X, dtype=float)\n",
    "\n",
    "# r1 e r2 iniciais: para não depender de aleatório, uso os DOIS primeiros pontos do próprio X\n",
    "r1_init = X_np[0].copy()\n",
    "r2_init = X_np[1].copy()\n",
    "\n",
    "r1_final, r2_final, updates_history, epoch_summary = run_10_epochs(X_np, r1_init, r2_init, alpha, epochs)\n",
    "\n",
    "print(\"r1_final:\", r1_final, \" | r2_final:\", r2_final)\n",
    "print(\"nº registos (i):\", len(updates_history))  # deve ser 10 * len(X) = 40\n",
    "print(\"nº linhas (ii):\", len(epoch_summary))     # deve ser 10\n"
   ]
  },
  {
   "cell_type": "code",
   "execution_count": 32,
   "id": "8c9f0ec2",
   "metadata": {},
   "outputs": [
    {
     "name": "stdout",
     "output_type": "stream",
     "text": [
      "Primeiras 8 atualizações (i): [epoch, idx, which, r1x, r1y, r2x, r2y]\n",
      "[1, 1, 1, np.float64(0.0), np.float64(0.0), np.float64(0.0), np.float64(1.0)]\n",
      "[1, 2, 2, np.float64(0.0), np.float64(0.0), np.float64(0.0), np.float64(1.0)]\n",
      "[1, 3, 1, np.float64(0.0001), np.float64(0.0), np.float64(0.0), np.float64(1.0)]\n",
      "[1, 4, 2, np.float64(0.0001), np.float64(0.0), np.float64(0.0001), np.float64(1.0)]\n",
      "[2, 1, 1, np.float64(9.999000000000001e-05), np.float64(0.0), np.float64(0.0001), np.float64(1.0)]\n",
      "[2, 2, 2, np.float64(9.999000000000001e-05), np.float64(0.0), np.float64(9.999000000000001e-05), np.float64(1.0)]\n",
      "[2, 3, 1, np.float64(0.00019998000100000002), np.float64(0.0), np.float64(9.999000000000001e-05), np.float64(1.0)]\n",
      "[2, 4, 2, np.float64(0.00019998000100000002), np.float64(0.0), np.float64(0.00019998000100000002), np.float64(1.0)]\n",
      "\n",
      "Resumo por época (ii): [epoch, r1x, r1y, r2x, r2y]\n",
      "[1, np.float64(0.0001), np.float64(0.0), np.float64(0.0001), np.float64(1.0)]\n",
      "[2, np.float64(0.00019998000100000002), np.float64(0.0), np.float64(0.00019998000100000002), np.float64(1.0)]\n",
      "[3, np.float64(0.00029994000699960007), np.float64(0.0), np.float64(0.00029994000699960007), np.float64(1.0)]\n",
      "[4, np.float64(0.0003998800219976002), np.float64(0.0), np.float64(0.0003998800219976002), np.float64(1.0)]\n",
      "[5, np.float64(0.0004998000499920009), np.float64(0.0), np.float64(0.0004998000499920009), np.float64(1.0)]\n",
      "[6, np.float64(0.0005997000949800031), np.float64(0.0), np.float64(0.0005997000949800031), np.float64(1.0)]\n",
      "[7, np.float64(0.0006995801609580081), np.float64(0.0), np.float64(0.0006995801609580081), np.float64(1.0)]\n",
      "[8, np.float64(0.0007994402519216181), np.float64(0.0), np.float64(0.0007994402519216181), np.float64(1.0)]\n",
      "[9, np.float64(0.0008992803718656364), np.float64(0.0), np.float64(0.0008992803718656364), np.float64(1.0)]\n",
      "[10, np.float64(0.000999100524784067), np.float64(0.0), np.float64(0.000999100524784067), np.float64(1.0)]\n"
     ]
    }
   ],
   "source": [
    "# ver o que foi guardado em i e ii\n",
    "\n",
    "# (i) primeiras 8 atualizações (duas primeiras de cada época, por exemplo)\n",
    "print(\"Primeiras 8 atualizações (i): [epoch, idx, which, r1x, r1y, r2x, r2y]\")\n",
    "for row in updates_history[:8]:\n",
    "    print(row)\n",
    "\n",
    "# (ii) resumo por época\n",
    "print(\"\\nResumo por época (ii): [epoch, r1x, r1y, r2x, r2y]\")\n",
    "for row in epoch_summary:\n",
    "    print(row)\n"
   ]
  }
 ],
 "metadata": {
  "kernelspec": {
   "display_name": "Python 3",
   "language": "python",
   "name": "python3"
  },
  "language_info": {
   "codemirror_mode": {
    "name": "ipython",
    "version": 3
   },
   "file_extension": ".py",
   "mimetype": "text/x-python",
   "name": "python",
   "nbconvert_exporter": "python",
   "pygments_lexer": "ipython3",
   "version": "3.13.9"
  }
 },
 "nbformat": 4,
 "nbformat_minor": 5
}
