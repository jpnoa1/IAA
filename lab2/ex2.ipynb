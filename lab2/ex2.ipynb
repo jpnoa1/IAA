{
 "cells": [
  {
   "cell_type": "code",
   "execution_count": 9,
   "id": "7fddd175",
   "metadata": {},
   "outputs": [],
   "source": [
    "import numpy as np\n",
    "import matplotlib.pyplot as plt"
   ]
  },
  {
   "cell_type": "code",
   "execution_count": 3,
   "id": "6123054e",
   "metadata": {},
   "outputs": [],
   "source": [
    "def hac_two_reps(X, return_history=True):\n",
    "    Xw = np.array(X, dtype=float).copy()\n",
    "    history = [Xw.copy()] if return_history else None\n",
    "\n",
    "    while len(Xw) > 2:\n",
    "        diff = Xw[:, None, :] - Xw[None, :, :]\n",
    "        D = np.sqrt(np.sum(diff**2, axis=2))\n",
    "        np.fill_diagonal(D, np.inf)\n",
    "        i, j = np.unravel_index(np.argmin(D), D.shape)\n",
    "        if i > j:  # manter i<j\n",
    "            i, j = j, i\n",
    "\n",
    "        m = (Xw[i] + Xw[j]) / 2.0            # média dos dois\n",
    "        Xw = np.delete(Xw, j, axis=0)        # remove j\n",
    "        Xw[i] = m                            # substitui i pela média\n",
    "\n",
    "        if return_history:\n",
    "            history.append(Xw.copy())\n",
    "\n",
    "    return (Xw, history) if return_history else (Xw, None)"
   ]
  },
  {
   "cell_type": "code",
   "execution_count": null,
   "id": "67acf248",
   "metadata": {},
   "outputs": [],
   "source": [
    "# %% correr\n",
    "reps, hist = hac_two_reps(X, return_history=True)\n",
    "r1, r2 = reps\n",
    "print(\"Representantes finais:\")\n",
    "print(\"r1 =\", r1)\n",
    "print(\"r2 =\", r2)"
   ]
  },
  {
   "cell_type": "code",
   "execution_count": 10,
   "id": "2236431b",
   "metadata": {},
   "outputs": [
    {
     "ename": "NameError",
     "evalue": "name 'X' is not defined",
     "output_type": "error",
     "traceback": [
      "\u001b[31m---------------------------------------------------------------------------\u001b[39m",
      "\u001b[31mNameError\u001b[39m                                 Traceback (most recent call last)",
      "\u001b[36mCell\u001b[39m\u001b[36m \u001b[39m\u001b[32mIn[10]\u001b[39m\u001b[32m, line 4\u001b[39m\n\u001b[32m      1\u001b[39m \u001b[38;5;66;03m# %% plot\u001b[39;00m\n\u001b[32m      3\u001b[39m plt.figure()\n\u001b[32m----> \u001b[39m\u001b[32m4\u001b[39m plt.scatter(\u001b[43mX\u001b[49m[:,\u001b[32m0\u001b[39m], X[:,\u001b[32m1\u001b[39m], s=\u001b[32m12\u001b[39m, label=\u001b[33m\"\u001b[39m\u001b[33mdados\u001b[39m\u001b[33m\"\u001b[39m)\n\u001b[32m      5\u001b[39m plt.scatter([r1[\u001b[32m0\u001b[39m], r2[\u001b[32m0\u001b[39m]], [r1[\u001b[32m1\u001b[39m], r2[\u001b[32m1\u001b[39m]], s=\u001b[32m140\u001b[39m, marker=\u001b[33m'\u001b[39m\u001b[33mX\u001b[39m\u001b[33m'\u001b[39m, label=\u001b[33m\"\u001b[39m\u001b[33mreps finais\u001b[39m\u001b[33m\"\u001b[39m)\n\u001b[32m      6\u001b[39m plt.title(\u001b[33m\"\u001b[39m\u001b[33mEx.2 — Fusão sucessiva até restarem 2 representantes\u001b[39m\u001b[33m\"\u001b[39m)\n",
      "\u001b[31mNameError\u001b[39m: name 'X' is not defined"
     ]
    },
    {
     "data": {
      "text/plain": [
       "<Figure size 640x480 with 0 Axes>"
      ]
     },
     "metadata": {},
     "output_type": "display_data"
    }
   ],
   "source": [
    "# %% plot\n",
    "\n",
    "plt.figure()\n",
    "plt.scatter(X[:,0], X[:,1], s=12, label=\"dados\")\n",
    "plt.scatter([r1[0], r2[0]], [r1[1], r2[1]], s=140, marker='X', label=\"reps finais\")\n",
    "plt.title(\"Ex.2 — Fusão sucessiva até restarem 2 representantes\")\n",
    "plt.axis('equal'); plt.legend(); plt.show()"
   ]
  }
 ],
 "metadata": {
  "kernelspec": {
   "display_name": "Python 3",
   "language": "python",
   "name": "python3"
  },
  "language_info": {
   "codemirror_mode": {
    "name": "ipython",
    "version": 3
   },
   "file_extension": ".py",
   "mimetype": "text/x-python",
   "name": "python",
   "nbconvert_exporter": "python",
   "pygments_lexer": "ipython3",
   "version": "3.13.9"
  }
 },
 "nbformat": 4,
 "nbformat_minor": 5
}
