{
 "cells": [
  {
   "cell_type": "code",
   "execution_count": null,
   "id": "10c796be",
   "metadata": {},
   "outputs": [],
   "source": [
    "# imports\n",
    "import numpy as np\n",
    "\n",
    "# Para reprodutibilidade (opcional: podes mudar/remover)\n",
    "rng = np.random.default_rng(42)\n"
   ]
  },
  {
   "cell_type": "code",
   "execution_count": null,
   "id": "2d301124",
   "metadata": {},
   "outputs": [],
   "source": [
    "# arante que X existe (4 padrões binários)\n",
    "try:\n",
    "    X  # definido na alínea 1\n",
    "except NameError:\n",
    "    X = np.array([[0, 0],\n",
    "                  [0, 1],\n",
    "                  [1, 0],\n",
    "                  [1, 1]], dtype=float)\n",
    "\n",
    "assert X.shape == (4, 2), f\"Esperava X com shape (4,2), obtido {X.shape}\"\n"
   ]
  },
  {
   "cell_type": "code",
   "execution_count": null,
   "id": "aeb2e5a5",
   "metadata": {},
   "outputs": [],
   "source": [
    "# função de forward \n",
    "def perceptron_forward(X, w, threshold=0.5):\n",
    "    \"\"\"\n",
    "    X: (n,2) entradas\n",
    "    w: (3,) pesos [w0, w1, w2]\n",
    "    threshold: 0.5 (do enunciado)\n",
    "    returns:\n",
    "        s: (n,) somas lineares\n",
    "        o: (n,) saídas binárias após threshold\n",
    "    \"\"\"\n",
    "    s = w[0] + X @ w[1:]            # s = w0 + w1*x1 + w2*x2\n",
    "    o = (s > threshold).astype(int)  # f(s) = 1 se s>0.5, senão 0\n",
    "    return s, o\n"
   ]
  },
  {
   "cell_type": "code",
   "execution_count": null,
   "id": "ae950752",
   "metadata": {},
   "outputs": [],
   "source": [
    "# inicialização e cálculo das saídas\n",
    "w = rng.normal(loc=0.0, scale=1e-2, size=3)  # [w0, w1, w2] pequenos\n",
    "\n",
    "s, o = perceptron_forward(X, w, threshold=0.5)\n",
    "\n",
    "print(\"Pesos iniciais [w0, w1, w2]:\", w)\n",
    "print(\"Somas s:\", s)\n",
    "print(\"Saídas o:\", o)\n",
    "\n",
    "# guardar para próximas alíneas (opcional) \n",
    "W_init = w.copy()\n",
    "o_init = o.copy()\n"
   ]
  }
 ],
 "metadata": {
  "kernelspec": {
   "display_name": "Python 3",
   "language": "python",
   "name": "python3"
  },
  "language_info": {
   "name": "python",
   "version": "3.13.9"
  }
 },
 "nbformat": 4,
 "nbformat_minor": 5
}
