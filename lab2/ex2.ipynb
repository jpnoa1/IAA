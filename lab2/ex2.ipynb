{
 "cells": [
  {
   "cell_type": "code",
   "execution_count": 28,
   "id": "10c796be",
   "metadata": {},
   "outputs": [],
   "source": [
    "# imports (sem scikit-learn)\n",
    "import numpy as np\n",
    "import pandas as pd\n",
    "import matplotlib.pyplot as plt\n",
    "from collections import Counter\n",
    "# Para reprodutibilidade\n",
    "rng = np.random.default_rng(42)"
   ]
  },
  {
   "cell_type": "code",
   "execution_count": 27,
   "id": "4036a454",
   "metadata": {},
   "outputs": [
    {
     "name": "stdout",
     "output_type": "stream",
     "text": [
      "Loaded Iris:  (150, 4) examples, classes: ['Iris-setosa', 'Iris-versicolor', 'Iris-virginica']\n"
     ]
    }
   ],
   "source": [
    "# carregar dataset Iris sem scikit-learn (usando UCI CSV)\n",
    "url = 'https://archive.ics.uci.edu/ml/machine-learning-databases/iris/iris.data'\n",
    "cols = ['sepal_length','sepal_width','petal_length','petal_width','target_name']\n",
    "df = pd.read_csv(url, header=None, names=cols)\n",
    "# remover linhas vazias (caso)\n",
    "df = df.dropna().reset_index(drop=True)\n",
    "# map targets para inteiros 0,1,2\n",
    "class_names = sorted(df['target_name'].unique())\n",
    "target_map = {name:i for i,name in enumerate(class_names)}\n",
    "df['y'] = df['target_name'].map(target_map)\n",
    "X = df[cols[:-1]].values.astype(float)\n",
    "y = df['y'].values.astype(int)\n",
    "print('Loaded Iris: ', X.shape, 'examples, classes:', class_names)"
   ]
  },
  {
   "cell_type": "code",
   "execution_count": null,
   "id": "009c96d8",
   "metadata": {},
   "outputs": [],
   "source": [
    "# (funções auxiliares)\n",
    "def stratified_split_indices(y, test_size=0.3, random_state=None):\n",
    "    rng = np.random.default_rng(random_state)\n",
    "    train_idx = []\n",
    "    test_idx = []\n",
    "    for cls in np.unique(y):\n",
    "        idx = np.where(y == cls)[0].copy()\n",
    "        rng.shuffle(idx)\n",
    "        n_test = int(np.round(len(idx) * test_size))\n",
    "        test_idx.extend(idx[:n_test])\n",
    "        train_idx.extend(idx[n_test:])\n",
    "    return np.array(train_idx, dtype=int), np.array(test_idx, dtype=int)\n",
    "\n",
    "def knn_predict(X_train, y_train, X_test, k=3):\n",
    "    \"\"\"k-NN prediction (baseado em GeeksforGeeks):\n",
    "    - usa distância Euclidiana\n",
    "    - votação majoritária entre os k vizinhos\n",
    "    - em caso de empate entre classes, escolhe a classe do vizinho\n",
    "      mais próximo entre os k (tie-break pelo vizinho mais próximo)\n",
    "    \"\"\"\n",
    "    # distances: (n_test, n_train)\n",
    "    d = np.linalg.norm(X_test[:, None, :] - X_train[None, :, :], axis=2)\n",
    "    nn = np.argsort(d, axis=1)[:, :k]  # indices of k nearest\n",
    "    preds = []\n",
    "    for i, neighbors in enumerate(nn):\n",
    "        neigh_labels = y_train[neighbors]\n",
    "        cnt = Counter(neigh_labels)\n",
    "        # find classes with maximum votes\n",
    "        max_votes = max(cnt.values())\n",
    "        top_classes = [cls for cls, v in cnt.items() if v == max_votes]\n",
    "        if len(top_classes) == 1:\n",
    "            preds.append(top_classes[0])\n",
    "            continue\n",
    "        # tie-break: choose class of the nearest neighbor (smallest distance)\n",
    "        distances = d[i, neighbors]\n",
    "        # order neighbors by distance and pick first whose label is in top_classes\n",
    "        order = np.argsort(distances)\n",
    "        chosen = None\n",
    "        for idx in order:\n",
    "            lbl = neigh_labels[idx]\n",
    "            if lbl in top_classes:\n",
    "                chosen = lbl\n",
    "                break\n",
    "        preds.append(int(chosen))\n",
    "    return np.array(preds, dtype=int)\n",
    "\n",
    "def accuracy(y_true, y_pred):\n",
    "    return np.mean(y_true == y_pred)\n",
    "\n",
    "def confusion_mat(y_true, y_pred, labels=None):\n",
    "    if labels is None:\n",
    "        labels = np.unique(np.concatenate([y_true, y_pred]))\n",
    "    mat = np.zeros((len(labels), len(labels)), dtype=int)\n",
    "    label_to_idx = {l:i for i,l in enumerate(labels)}\n",
    "    for t, p in zip(y_true, y_pred):\n",
    "        mat[label_to_idx[t], label_to_idx[p]] += 1\n",
    "    return mat, labels"
   ]
  },
  {
   "cell_type": "code",
   "execution_count": 30,
   "id": "2d301124",
   "metadata": {},
   "outputs": [
    {
     "name": "stderr",
     "output_type": "stream",
     "text": [
      "C:\\Users\\nicol\\AppData\\Local\\Temp\\ipykernel_32572\\3756909777.py:17: MatplotlibDeprecationWarning: The 'labels' parameter of boxplot() has been renamed 'tick_labels' since Matplotlib 3.9; support for the old name will be dropped in 3.11.\n",
      "  plt.boxplot(data, labels=[f'k={k}' for k in ks], showmeans=True)\n"
     ]
    },
    {
     "data": {
      "image/png": "[encoded data removed]",
      "text/plain": [
       "<Figure size 600x400 with 1 Axes>"
      ]
     },
     "metadata": {},
     "output_type": "display_data"
    }
   ],
   "source": [
    "# 1) Partições estratificadas 70/30, 30 execuções (implementação própria)\n",
    "n_splits = 30\n",
    "test_size = 0.30\n",
    "ks = [3, 7, 11]\n",
    "accuracies = {k: [] for k in ks}\n",
    "for i in range(n_splits):\n",
    "    train_idx, test_idx = stratified_split_indices(y, test_size=test_size, random_state=42 + i)\n",
    "    X_tr, X_te = X[train_idx], X[test_idx]\n",
    "    y_tr, y_te = y[train_idx], y[test_idx]\n",
    "    for k in ks:\n",
    "        y_pred = knn_predict(X_tr, y_tr, X_te, k=k)\n",
    "        accuracies[k].append(accuracy(y_te, y_pred))\n",
    "\n",
    "# Boxplot com whiskers\n",
    "data = [accuracies[k] for k in ks]\n",
    "plt.figure(figsize=(6,4))\n",
    "plt.boxplot(data, labels=[f'k={k}' for k in ks], showmeans=True)\n",
    "plt.ylabel('Accuracy (teste)')\n",
    "plt.title('k-NN no Iris: 30 partições (70/30) - implementação própria')\n",
    "plt.show()"
   ]
  },
  {
   "cell_type": "code",
   "execution_count": 31,
   "id": "aeb2e5a5",
   "metadata": {},
   "outputs": [
    {
     "name": "stdout",
     "output_type": "stream",
     "text": [
      "\n",
      "Matriz de confusão — k=3\n"
     ]
    },
    {
     "data": {
      "text/html": [
       "<div>\n",
       "<style scoped>\n",
       "    .dataframe tbody tr th:only-of-type {\n",
       "        vertical-align: middle;\n",
       "    }\n",
       "\n",
       "    .dataframe tbody tr th {\n",
       "        vertical-align: top;\n",
       "    }\n",
       "\n",
       "    .dataframe thead th {\n",
       "        text-align: right;\n",
       "    }\n",
       "</style>\n",
       "<table border=\"1\" class=\"dataframe\">\n",
       "  <thead>\n",
       "    <tr style=\"text-align: right;\">\n",
       "      <th></th>\n",
       "      <th>pred_Iris-setosa</th>\n",
       "      <th>pred_Iris-versicolor</th>\n",
       "      <th>pred_Iris-virginica</th>\n",
       "    </tr>\n",
       "  </thead>\n",
       "  <tbody>\n",
       "    <tr>\n",
       "      <th>true_Iris-setosa</th>\n",
       "      <td>15</td>\n",
       "      <td>0</td>\n",
       "      <td>0</td>\n",
       "    </tr>\n",
       "    <tr>\n",
       "      <th>true_Iris-versicolor</th>\n",
       "      <td>0</td>\n",
       "      <td>14</td>\n",
       "      <td>1</td>\n",
       "    </tr>\n",
       "    <tr>\n",
       "      <th>true_Iris-virginica</th>\n",
       "      <td>0</td>\n",
       "      <td>1</td>\n",
       "      <td>14</td>\n",
       "    </tr>\n",
       "  </tbody>\n",
       "</table>\n",
       "</div>"
      ],
      "text/plain": [
       "                      pred_Iris-setosa  pred_Iris-versicolor  \\\n",
       "true_Iris-setosa                    15                     0   \n",
       "true_Iris-versicolor                 0                    14   \n",
       "true_Iris-virginica                  0                     1   \n",
       "\n",
       "                      pred_Iris-virginica  \n",
       "true_Iris-setosa                        0  \n",
       "true_Iris-versicolor                    1  \n",
       "true_Iris-virginica                    14  "
      ]
     },
     "metadata": {},
     "output_type": "display_data"
    },
    {
     "name": "stdout",
     "output_type": "stream",
     "text": [
      "\n",
      "Matriz de confusão — k=7\n"
     ]
    },
    {
     "data": {
      "text/html": [
       "<div>\n",
       "<style scoped>\n",
       "    .dataframe tbody tr th:only-of-type {\n",
       "        vertical-align: middle;\n",
       "    }\n",
       "\n",
       "    .dataframe tbody tr th {\n",
       "        vertical-align: top;\n",
       "    }\n",
       "\n",
       "    .dataframe thead th {\n",
       "        text-align: right;\n",
       "    }\n",
       "</style>\n",
       "<table border=\"1\" class=\"dataframe\">\n",
       "  <thead>\n",
       "    <tr style=\"text-align: right;\">\n",
       "      <th></th>\n",
       "      <th>pred_Iris-setosa</th>\n",
       "      <th>pred_Iris-versicolor</th>\n",
       "      <th>pred_Iris-virginica</th>\n",
       "    </tr>\n",
       "  </thead>\n",
       "  <tbody>\n",
       "    <tr>\n",
       "      <th>true_Iris-setosa</th>\n",
       "      <td>15</td>\n",
       "      <td>0</td>\n",
       "      <td>0</td>\n",
       "    </tr>\n",
       "    <tr>\n",
       "      <th>true_Iris-versicolor</th>\n",
       "      <td>0</td>\n",
       "      <td>14</td>\n",
       "      <td>1</td>\n",
       "    </tr>\n",
       "    <tr>\n",
       "      <th>true_Iris-virginica</th>\n",
       "      <td>0</td>\n",
       "      <td>1</td>\n",
       "      <td>14</td>\n",
       "    </tr>\n",
       "  </tbody>\n",
       "</table>\n",
       "</div>"
      ],
      "text/plain": [
       "                      pred_Iris-setosa  pred_Iris-versicolor  \\\n",
       "true_Iris-setosa                    15                     0   \n",
       "true_Iris-versicolor                 0                    14   \n",
       "true_Iris-virginica                  0                     1   \n",
       "\n",
       "                      pred_Iris-virginica  \n",
       "true_Iris-setosa                        0  \n",
       "true_Iris-versicolor                    1  \n",
       "true_Iris-virginica                    14  "
      ]
     },
     "metadata": {},
     "output_type": "display_data"
    },
    {
     "name": "stdout",
     "output_type": "stream",
     "text": [
      "\n",
      "Matriz de confusão — k=11\n"
     ]
    },
    {
     "data": {
      "text/html": [
       "<div>\n",
       "<style scoped>\n",
       "    .dataframe tbody tr th:only-of-type {\n",
       "        vertical-align: middle;\n",
       "    }\n",
       "\n",
       "    .dataframe tbody tr th {\n",
       "        vertical-align: top;\n",
       "    }\n",
       "\n",
       "    .dataframe thead th {\n",
       "        text-align: right;\n",
       "    }\n",
       "</style>\n",
       "<table border=\"1\" class=\"dataframe\">\n",
       "  <thead>\n",
       "    <tr style=\"text-align: right;\">\n",
       "      <th></th>\n",
       "      <th>pred_Iris-setosa</th>\n",
       "      <th>pred_Iris-versicolor</th>\n",
       "      <th>pred_Iris-virginica</th>\n",
       "    </tr>\n",
       "  </thead>\n",
       "  <tbody>\n",
       "    <tr>\n",
       "      <th>true_Iris-setosa</th>\n",
       "      <td>15</td>\n",
       "      <td>0</td>\n",
       "      <td>0</td>\n",
       "    </tr>\n",
       "    <tr>\n",
       "      <th>true_Iris-versicolor</th>\n",
       "      <td>0</td>\n",
       "      <td>14</td>\n",
       "      <td>1</td>\n",
       "    </tr>\n",
       "    <tr>\n",
       "      <th>true_Iris-virginica</th>\n",
       "      <td>0</td>\n",
       "      <td>1</td>\n",
       "      <td>14</td>\n",
       "    </tr>\n",
       "  </tbody>\n",
       "</table>\n",
       "</div>"
      ],
      "text/plain": [
       "                      pred_Iris-setosa  pred_Iris-versicolor  \\\n",
       "true_Iris-setosa                    15                     0   \n",
       "true_Iris-versicolor                 0                    14   \n",
       "true_Iris-virginica                  0                     1   \n",
       "\n",
       "                      pred_Iris-virginica  \n",
       "true_Iris-setosa                        0  \n",
       "true_Iris-versicolor                    1  \n",
       "true_Iris-virginica                    14  "
      ]
     },
     "metadata": {},
     "output_type": "display_data"
    }
   ],
   "source": [
    "# 2) Uma única partição estratificada 70/30 e matrizes de confusão (implementação própria)\n",
    "train_idx, test_idx = stratified_split_indices(y, test_size=0.30, random_state=7)\n",
    "X_tr, X_te = X[train_idx], X[test_idx]\n",
    "y_tr, y_te = y[train_idx], y[test_idx]\n",
    "\n",
    "ks = [3, 7, 11]\n",
    "for k in ks:\n",
    "    y_pred = knn_predict(X_tr, y_tr, X_te, k=k)\n",
    "    cm, labels = confusion_mat(y_te, y_pred, labels=np.arange(len(class_names)))\n",
    "    df_cm = pd.DataFrame(cm, index=[f\"true_{c}\" for c in class_names], columns=[f\"pred_{c}\" for c in class_names])\n",
    "    print(f\"\\nMatriz de confusão — k={k}\")\n",
    "    display(df_cm)"
   ]
  },
  {
   "cell_type": "markdown",
   "id": "6e02457c",
   "metadata": {},
   "source": [
    "### Exercício 2 — Alínea 3  \n",
    "**Porque deve o valor de *k* ser ímpar (com base na Fig. 3)?**\n",
    "\n",
    "No algoritmo *k*-NN, cada ponto desconhecido é classificado segundo a **classe mais frequente**\n",
    "entre os *k* vizinhos mais próximos.\n",
    "\n",
    "- Se **k for par**, pode acontecer um **empate** entre classes (por exemplo 1–1 ou 2–2 num problema binário).  \n",
    "  Nesse caso, o classificador precisa de um critério artificial de desempate\n",
    "  (aleatório, prioridade de classe, ordem dos dados, etc.), o que introduz instabilidade.\n",
    "\n",
    "- Se **k for ímpar**, garante-se que **há sempre uma maioria clara** entre as duas classes,\n",
    "evitando empates e tornando o processo de decisão determinístico.\n",
    "\n",
    " **Conclusão:**  \n",
    "Escolher *k* ímpar (por exemplo 3, 5, 7, 11…) evita empates em problemas binários e reduz a probabilidade de empate em problemas multiclasse, tornando o *k*-NN mais estável e previsível.\n"
   ]
  }
 ],
 "metadata": {
  "kernelspec": {
   "display_name": "Python 3",
   "language": "python",
   "name": "python3"
  },
  "language_info": {
   "codemirror_mode": {
    "name": "ipython",
    "version": 3
   },
   "file_extension": ".py",
   "mimetype": "text/x-python",
   "name": "python",
   "nbconvert_exporter": "python",
   "pygments_lexer": "ipython3",
   "version": "3.13.9"
  }
 },
 "nbformat": 4,
 "nbformat_minor": 5
}
