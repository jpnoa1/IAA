{
 "cells": [
  {
   "cell_type": "code",
   "execution_count": 14,
   "id": "628a73b4",
   "metadata": {},
   "outputs": [
    {
     "name": "stdout",
     "output_type": "stream",
     "text": [
      "     sepal_length  sepal_width  petal_length  petal_width     target_name  y  \\\n",
      "0             5.1          3.5           1.4          0.2     Iris-setosa  1   \n",
      "1             4.9          3.0           1.4          0.2     Iris-setosa  1   \n",
      "2             4.7          3.2           1.3          0.2     Iris-setosa  1   \n",
      "3             4.6          3.1           1.5          0.2     Iris-setosa  1   \n",
      "4             5.0          3.6           1.4          0.2     Iris-setosa  1   \n",
      "..            ...          ...           ...          ...             ... ..   \n",
      "145           6.7          3.0           5.2          2.3  Iris-virginica  0   \n",
      "146           6.3          2.5           5.0          1.9  Iris-virginica  0   \n",
      "147           6.5          3.0           5.2          2.0  Iris-virginica  0   \n",
      "148           6.2          3.4           5.4          2.3  Iris-virginica  0   \n",
      "149           5.9          3.0           5.1          1.8  Iris-virginica  0   \n",
      "\n",
      "    sepal_length_disc  \n",
      "0                 low  \n",
      "1                 low  \n",
      "2                 low  \n",
      "3                 low  \n",
      "4                 low  \n",
      "..                ...  \n",
      "145              high  \n",
      "146            medium  \n",
      "147              high  \n",
      "148            medium  \n",
      "149            medium  \n",
      "\n",
      "[150 rows x 7 columns]\n",
      "Entropia(S) conjunto total 0.9183\n",
      "Entropia(S_low):    0.57\n",
      "Entropia(S_medium): 0.4341\n",
      "Entropia(S_high):   0.0\n",
      "Gain(S, sepal_length): 0.5587\n"
     ]
    }
   ],
   "source": [
    "from ucimlrepo import fetch_ucirepo\n",
    "import pandas as pd\n",
    "import numpy as np\n",
    "\n",
    "# 1) Buscar o dataset Iris (id=53)\n",
    "iris = fetch_ucirepo(id=53)\n",
    "\n",
    "# 2) Converter para DataFrames pandas\n",
    "X = iris.data.features.copy()   # features (pandas DataFrame)\n",
    "y = iris.data.targets.copy()    # targets (pandas DataFrame)\n",
    "df = pd.concat([X, y], axis=1)\n",
    "df.columns = [c.strip().lower().replace(' (cm)', '').replace(' ', '_') for c in df.columns]\n",
    "df.rename(columns={'class': 'target_name'}, inplace=True)\n",
    "df['y'] = (df['target_name'] == 'Iris-setosa').astype(int)\n",
    "\n",
    "\n",
    "# 3) discretizar APENAS a 1ª coluna (sepal_length) em low/medium/high por quantis 33%/66%\n",
    "q1, q2 = df['sepal_length'].quantile([1/3, 2/3])\n",
    "df['sepal_length_disc'] = pd.cut(df['sepal_length'],\n",
    "                                 bins=[-np.inf, q1, q2, np.inf],\n",
    "                                 labels=['low','medium','high'])\n",
    "print(df)\n",
    "\n",
    "def entropy_binary(y_series):\n",
    "    \"\"\"Entropia de um alvo binário (1=setosa, 0=não-setosa).\"\"\"\n",
    "    p = y_series.mean() #proporção de 1's porque e um conjunto binário\n",
    "    if p == 0 or p == 1: #no caso de o conjunto ser todo de uma classe\n",
    "        return 0.0 \n",
    "    return -(p*np.log2(p) + (1-p)*np.log2(1-p))\n",
    "\n",
    "H_S = entropy_binary(df['y'])\n",
    "print(\"Entropia(S) conjunto total\", round(H_S, 4))\n",
    "\n",
    "H_low    = entropy_binary(df[df['sepal_length_disc']=='low']['y'])\n",
    "H_medium = entropy_binary(df[df['sepal_length_disc']=='medium']['y'])\n",
    "H_high   = entropy_binary(df[df['sepal_length_disc']=='high']['y'])\n",
    "\n",
    "print(\"Entropia(S_low):   \", round(H_low, 4))\n",
    "print(\"Entropia(S_medium):\", round(H_medium, 4))\n",
    "print(\"Entropia(S_high):  \", round(H_high, 4))\n",
    "\n",
    "n = len(df)\n",
    "n_low    = len(df[df['sepal_length_disc']=='low'])\n",
    "n_medium = len(df[df['sepal_length_disc']=='medium'])\n",
    "n_high   = len(df[df['sepal_length_disc']=='high'])\n",
    "\n",
    "weighted = (n_low/n)*H_low + (n_medium/n)*H_medium + (n_high/n)*H_high\n",
    "gain = H_S - weighted\n",
    "\n",
    "print(\"Gain(S, sepal_length):\", round(gain, 4))\n",
    "\n"
   ]
  },
  {
   "cell_type": "markdown",
   "id": "94f53c21",
   "metadata": {},
   "source": [
    "### 2)\n",
    "Fazendo o ganho da partiçao sugerida no inicio obtivemos um valor de 0.5587 o que nao e um valor ideal, que significa que a partição não e ideal mas pode ajudar na diferenciaçao dos dois conjuntos em estudo."
   ]
  },
  {
   "cell_type": "markdown",
   "id": "51927253",
   "metadata": {},
   "source": [
    "### 3)"
   ]
  },
  {
   "cell_type": "code",
   "execution_count": null,
   "id": "a3a9a609",
   "metadata": {},
   "outputs": [
    {
     "name": "stdout",
     "output_type": "stream",
     "text": [
      "\n",
      "Ganho de informação por feature:\n",
      "sepal_length   : 0.5587\n",
      "sepal_width    : 0.3081\n",
      "petal_length   : 0.9183\n",
      "petal_width    : 0.9183\n",
      "\n",
      "A melhor feature para dividir o conjunto é: petal_length com ganho 0.9183\n"
     ]
    }
   ],
   "source": [
    "\n",
    "# Calculo dos ganhos\n",
    "\n",
    "# lista com as quatro features\n",
    "feature_cols = ['sepal_length', 'sepal_width', 'petal_length', 'petal_width']\n",
    "\n",
    "# criar um dicionário para guardar os ganhos\n",
    "gains = {}\n",
    "\n",
    "for col in feature_cols:\n",
    "    # 1. discretizar a coluna em low/medium/high\n",
    "    q1, q2 = df[col].quantile([1/3, 2/3])\n",
    "    df[col + '_disc'] = pd.cut(df[col],\n",
    "                               bins=[-np.inf, q1, q2, np.inf],\n",
    "                               labels=['low', 'medium', 'high'])\n",
    "    \n",
    "    # 2. calcular entropias dos subconjuntos\n",
    "    H_S = entropy_binary(df['y'])\n",
    "    weighted = 0.0\n",
    "    \n",
    "    for value in ['low', 'medium', 'high']:\n",
    "        subset = df[df[col + '_disc'] == value]\n",
    "        H_subset = entropy_binary(subset['y'])\n",
    "        weighted += (len(subset) / len(df)) * H_subset\n",
    "    \n",
    "    # 3. calcular ganho\n",
    "    gain = H_S - weighted\n",
    "    gains[col] = gain\n",
    "\n",
    "# ===== Mostrar resultados =====\n",
    "print(\"\\nGanho de informação por feature:\")\n",
    "for feature, gain in gains.items():\n",
    "    print(f\"{feature:15s}: {gain:.4f}\")\n",
    "\n",
    "# ===== Mostrar qual é a melhor coluna =====\n",
    "best_feature = max(gains, key=gains.get)\n",
    "print(f\"\\nA melhor feature para dividir o conjunto é: {best_feature} com ganho {gains[best_feature]:.4f}\")\n"
   ]
  },
  {
   "cell_type": "markdown",
   "id": "40f0fd0a",
   "metadata": {},
   "source": [
    "Resposta ao 3)\n",
    "\n",
    "As variáveis petal_length e petal_width apresentam o maior ganho de informação (~0.92), o que demonstra que possui o maior potencial discriminativo entre Iris-setosa e as restantes espécies.\n",
    "Isto significa que, ao particionar os dados com base nessa variável, a incerteza sobre a classe do exemplo reduz-se quase totalmente."
   ]
  },
  {
   "cell_type": "markdown",
   "id": "057e53aa",
   "metadata": {},
   "source": [
    "### 4) \n",
    "A melhor divisão (split) é aquela que produz a maior redução da entropia, isto é, o maior ganho de informação (Information Gain – IG). Assim, o atributo com maior IG é selecionado como nó raiz, pois é o que mais contribui para diminuir a incerteza sobre a classe. No caso do conjunto Iris, o atributo petal_length apresenta o maior ganho (≈ 0,9183), sendo, portanto, o melhor critério inicial para dividir os dados e distinguir Iris-setosa das restantes espécies.\n",
    "O conjunto é então dividido consoante os valores de petal_length (low, medium, high), e o processo repete-se recursivamente nos subconjuntos, escolhendo sempre o atributo mais informativo até que os nós sejam puros ou não existam mais variáveis relevantes."
   ]
  }
 ],
 "metadata": {
  "kernelspec": {
   "display_name": "Python 3",
   "language": "python",
   "name": "python3"
  },
  "language_info": {
   "codemirror_mode": {
    "name": "ipython",
    "version": 3
   },
   "file_extension": ".py",
   "mimetype": "text/x-python",
   "name": "python",
   "nbconvert_exporter": "python",
   "pygments_lexer": "ipython3",
   "version": "3.12.6"
  }
 },
 "nbformat": 4,
 "nbformat_minor": 5
}
